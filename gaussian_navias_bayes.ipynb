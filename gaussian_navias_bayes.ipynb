{
 "cells": [
  {
   "cell_type": "code",
   "execution_count": 48,
   "id": "7ffff527",
   "metadata": {},
   "outputs": [
    {
     "name": "stdout",
     "output_type": "stream",
     "text": [
      "     Age  Sex            cp  trestbps  chol  fbs  restecg   thalach  exang  \\\n",
      "0     63    1       typical       145   233    1        2       150      0   \n",
      "1     67    1  asymptomatic       160   286    0        2       108      1   \n",
      "2     67    1  asymptomatic       120   229    0        2       129      1   \n",
      "3     37    1    nonanginal       130   250    0        0       187      0   \n",
      "4     41    0    nontypical       130   204    0        2       172      0   \n",
      "..   ...  ...           ...       ...   ...  ...      ...       ...    ...   \n",
      "298   45    1       typical       110   264    0        0       132      0   \n",
      "299   68    1  asymptomatic       144   193    1        0       141      0   \n",
      "300   57    1  asymptomatic       130   131    0        0       115      1   \n",
      "301   57    0    nontypical       130   236    0        2       174      0   \n",
      "302   38    1    nonanginal       138   175    0        0       173      0   \n",
      "\n",
      "     oldpeak  slope   ca        thal AHD(target)  \n",
      "0        2.3      3  0.0       fixed          No  \n",
      "1        1.5      2  3.0      normal         Yes  \n",
      "2        2.6      2  2.0  reversable         Yes  \n",
      "3        3.5      3  0.0      normal          No  \n",
      "4        1.4      1  0.0      normal          No  \n",
      "..       ...    ...  ...         ...         ...  \n",
      "298      1.2      2  0.0  reversable         Yes  \n",
      "299      3.4      2  2.0  reversable         Yes  \n",
      "300      1.2      2  1.0  reversable         Yes  \n",
      "301      0.0      2  1.0      normal         Yes  \n",
      "302      0.0      1  NaN      normal          No  \n",
      "\n",
      "[303 rows x 14 columns]\n"
     ]
    }
   ],
   "source": [
    "import pandas as pd\n",
    "import numpy as np \n",
    "import matplotlib.pyplot as plt\n",
    "from sklearn.model_selection import train_test_split\n",
    "from sklearn.naive_bayes import GaussianNB\n",
    "\n",
    "\n",
    "# import dataset and read it with pandas\n",
    "dataset = pd.read_csv(\"HeartDisease.csv\")\n",
    "# remove \"unnamed\" column from dataset\n",
    "dataset = dataset.drop(dataset.columns[0], axis = 1)\n",
    "print(dataset)"
   ]
  },
  {
   "cell_type": "code",
   "execution_count": 49,
   "id": "173e2490",
   "metadata": {},
   "outputs": [
    {
     "name": "stdout",
     "output_type": "stream",
     "text": [
      "     Age  Sex  cp  trestbps  chol  fbs  restecg   thalach  exang  oldpeak  \\\n",
      "0     63    1   0       145   233    1        2       150      0      2.3   \n",
      "1     67    1   1       160   286    0        2       108      1      1.5   \n",
      "2     67    1   1       120   229    0        2       129      1      2.6   \n",
      "3     37    1   2       130   250    0        0       187      0      3.5   \n",
      "4     41    0   2       130   204    0        2       172      0      1.4   \n",
      "..   ...  ...  ..       ...   ...  ...      ...       ...    ...      ...   \n",
      "297   57    0   1       140   241    0        0       123      1      0.2   \n",
      "298   45    1   0       110   264    0        0       132      0      1.2   \n",
      "299   68    1   1       144   193    1        0       141      0      3.4   \n",
      "300   57    1   1       130   131    0        0       115      1      1.2   \n",
      "301   57    0   2       130   236    0        2       174      0      0.0   \n",
      "\n",
      "     slope   ca  thal  AHD(target)  \n",
      "0        3  0.0     6            0  \n",
      "1        2  3.0     3            1  \n",
      "2        2  2.0     7            1  \n",
      "3        3  0.0     3            0  \n",
      "4        1  0.0     3            0  \n",
      "..     ...  ...   ...          ...  \n",
      "297      2  0.0     7            1  \n",
      "298      2  0.0     7            1  \n",
      "299      2  2.0     7            1  \n",
      "300      2  1.0     7            1  \n",
      "301      2  1.0     3            1  \n",
      "\n",
      "[299 rows x 14 columns]\n"
     ]
    }
   ],
   "source": [
    "# Casting object variables to int\n",
    "\n",
    "dataset.cp = [0 if i==\"typical\" else (1 if i == \"asymptomatic\"  else 2) for i in dataset.cp]\n",
    "\n",
    "dataset.thal = [3 if i== \"normal\" else (6 if i == \"fixed\" else 7) for i in dataset.thal]\n",
    "\n",
    "dataset['AHD(target)'] = [1 if i== \"Yes\" else 0 for i in dataset['AHD(target)']]\n",
    "\n",
    "# remove records that have NaN  value\n",
    "dataset = dataset.dropna()\n",
    "\n",
    "print(dataset)"
   ]
  },
  {
   "cell_type": "code",
   "execution_count": 66,
   "id": "207299ba",
   "metadata": {},
   "outputs": [
    {
     "name": "stdout",
     "output_type": "stream",
     "text": [
      "          Age       Sex        cp  trestbps      chol       fbs   restecg  \\\n",
      "0    0.176491  0.324415 -0.683946  0.125765 -0.032193  0.852843  0.501672   \n",
      "1    0.259824  0.324415 -0.183946  0.267275  0.088812 -0.147157  0.501672   \n",
      "2    0.259824  0.324415 -0.183946 -0.110084 -0.041325 -0.147157  0.501672   \n",
      "3   -0.365176  0.324415  0.316054 -0.015744  0.006620 -0.147157 -0.498328   \n",
      "4   -0.281842 -0.675585  0.316054 -0.015744 -0.098403 -0.147157  0.501672   \n",
      "..        ...       ...       ...       ...       ...       ...       ...   \n",
      "297  0.051491 -0.675585 -0.183946  0.078595 -0.013928 -0.147157 -0.498328   \n",
      "298 -0.198509  0.324415 -0.683946 -0.204424  0.038584 -0.147157 -0.498328   \n",
      "299  0.280658  0.324415 -0.183946  0.116331 -0.123517  0.852843 -0.498328   \n",
      "300  0.051491  0.324415 -0.183946 -0.015744 -0.265069 -0.147157 -0.498328   \n",
      "301  0.051491 -0.675585  0.316054 -0.015744 -0.025343 -0.147157  0.501672   \n",
      "\n",
      "      thalach     exang   oldpeak     slope        ca      thal  \n",
      "0    0.003778 -0.327759  0.201316  0.698997 -0.224080  0.313545  \n",
      "1   -0.316832  0.672241  0.072284  0.198997  0.775920 -0.436455  \n",
      "2   -0.156527  0.672241  0.249703  0.198997  0.442586  0.563545  \n",
      "3    0.286221 -0.327759  0.394865  0.698997 -0.224080 -0.436455  \n",
      "4    0.171717 -0.327759  0.056155 -0.301003 -0.224080 -0.436455  \n",
      "..        ...       ...       ...       ...       ...       ...  \n",
      "297 -0.202328  0.672241 -0.137393  0.198997 -0.224080  0.563545  \n",
      "298 -0.133626 -0.327759  0.023897  0.198997 -0.224080  0.563545  \n",
      "299 -0.064924 -0.327759  0.378736  0.198997  0.442586  0.563545  \n",
      "300 -0.263397  0.672241  0.023897  0.198997  0.109253  0.563545  \n",
      "301  0.186985 -0.327759 -0.169652  0.198997  0.109253 -0.436455  \n",
      "\n",
      "[299 rows x 13 columns]\n"
     ]
    }
   ],
   "source": [
    "# Dataset normalization (without labels):\n",
    "\n",
    "records = dataset.drop(['AHD(target)'], axis = 1)\n",
    "normalized_dataset = (records - records.mean()) / (records.max() - records.min())\n",
    "print(normalized_dataset)\n",
    "\n",
    "labels = dataset['AHD(target)'].values\n",
    "\n"
   ]
  },
  {
   "cell_type": "code",
   "execution_count": 71,
   "id": "45f5844f",
   "metadata": {},
   "outputs": [],
   "source": [
    "normalized_dataset_train, normalized_dataset_test, labels_train, labels_test = train_test_split(normalized_dataset, labels, test_size = 0.2, random_state = 41)"
   ]
  },
  {
   "cell_type": "code",
   "execution_count": 72,
   "id": "ef06574f",
   "metadata": {},
   "outputs": [
    {
     "data": {
      "text/plain": [
       "GaussianNB()"
      ]
     },
     "execution_count": 72,
     "metadata": {},
     "output_type": "execute_result"
    }
   ],
   "source": [
    "nb = GaussianNB()\n",
    "nb.fit(normalized_dataset_train, labels_train)"
   ]
  },
  {
   "cell_type": "code",
   "execution_count": 73,
   "id": "7da31b80",
   "metadata": {},
   "outputs": [
    {
     "name": "stdout",
     "output_type": "stream",
     "text": [
      "Naive Bayes score:  0.8333333333333334\n"
     ]
    }
   ],
   "source": [
    "print(\"Naive Bayes score: \",nb.score(normalized_dataset_test, labels_test))"
   ]
  },
  {
   "cell_type": "code",
   "execution_count": null,
   "id": "19237217",
   "metadata": {},
   "outputs": [],
   "source": []
  }
 ],
 "metadata": {
  "kernelspec": {
   "display_name": "Python 3 (ipykernel)",
   "language": "python",
   "name": "python3"
  },
  "language_info": {
   "codemirror_mode": {
    "name": "ipython",
    "version": 3
   },
   "file_extension": ".py",
   "mimetype": "text/x-python",
   "name": "python",
   "nbconvert_exporter": "python",
   "pygments_lexer": "ipython3",
   "version": "3.9.13"
  }
 },
 "nbformat": 4,
 "nbformat_minor": 5
}
